{
 "cells": [
  {
   "cell_type": "code",
   "execution_count": 1,
   "id": "35ffaa6c-0229-4c2d-ba9d-acde5c9ebe8c",
   "metadata": {},
   "outputs": [],
   "source": [
    "import requests\n",
    "from bs4 import BeautifulSoup\n",
    "import os\n",
    "import pandas as pd\n",
    "from datetime import datetime, timedelta"
   ]
  },
  {
   "cell_type": "code",
   "execution_count": 5,
   "id": "6fa665c4-faa1-4779-87f7-ff108fa05444",
   "metadata": {},
   "outputs": [],
   "source": [
    "def fetch_news_urls(base_url, days):\n",
    "    news_urls = []\n",
    "    for i in range(days):\n",
    "        date = (datetime.now() - timedelta(days=i)).strftime('%Y-%m-%d')\n",
    "        url = f\"{base_url}/news/{date}\"\n",
    "        response = requests.get(url)\n",
    "        if response.status_code == 200:\n",
    "            soup = BeautifulSoup(response.content, 'html.parser')\n",
    "            for a_tag in soup.find_all('a', href=True):\n",
    "                if '/news/' in a_tag['href']:\n",
    "                    news_urls.append(a_tag['href'])\n",
    "    return news_urls"
   ]
  },
  {
   "cell_type": "code",
   "execution_count": 6,
   "id": "56b92dd1-264f-4a09-afa1-69126715540d",
   "metadata": {},
   "outputs": [],
   "source": [
    "def fetch_article(url):\n",
    "    response = requests.get(url)\n",
    "    if response.status_code == 200:\n",
    "        soup = BeautifulSoup(response.content, 'html.parser')\n",
    "        title_tag = soup.find('h1')\n",
    "        if title_tag:\n",
    "            title = title_tag.get_text()\n",
    "            content = ' '.join(p.get_text() for p in soup.find_all('p'))\n",
    "            return title, content\n",
    "        else:\n",
    "            print(f\"No <h1> tag found in {url}\")\n",
    "    return None, None"
   ]
  },
  {
   "cell_type": "code",
   "execution_count": 7,
   "id": "d5980484-0a65-4322-8820-285cfab61590",
   "metadata": {},
   "outputs": [],
   "source": [
    "def scrape_news(base_url, days, output_dir):\n",
    "    if not os.path.exists(output_dir):\n",
    "        os.makedirs(output_dir)\n",
    "\n",
    "    for i in range(days):\n",
    "        date = (datetime.now() - timedelta(days=i)).strftime('%Y-%m-%d')\n",
    "        news_urls = fetch_news_urls(base_url, 1)  # Fetch URLs for one day at a time\n",
    "        articles = []\n",
    "\n",
    "        for url in news_urls:\n",
    "            title, content = fetch_article(url)\n",
    "            if title and content:\n",
    "                articles.append({'title': title, 'content': content, 'url': url})\n",
    "\n",
    "        df = pd.DataFrame(articles)\n",
    "        df.to_csv(os.path.join(output_dir, f'news_articles_{date}.csv'), index=False)\n"
   ]
  },
  {
   "cell_type": "code",
   "execution_count": 8,
   "id": "a69d4d44-b7af-43d1-8d31-8d79b1a2e535",
   "metadata": {},
   "outputs": [
    {
     "name": "stderr",
     "output_type": "stream",
     "text": [
      "Some characters could not be decoded, and were replaced with REPLACEMENT CHARACTER.\n"
     ]
    },
    {
     "name": "stdout",
     "output_type": "stream",
     "text": [
      "No <h1> tag found in https://www.moneycontrol.com/news/mgmtinterviews/chats/detail_new.php?type=upcoming\n",
      "No <h1> tag found in https://www.moneycontrol.com/news/mgmtinterviews/chats/archives_new.php\n"
     ]
    },
    {
     "name": "stderr",
     "output_type": "stream",
     "text": [
      "Some characters could not be decoded, and were replaced with REPLACEMENT CHARACTER.\n"
     ]
    },
    {
     "name": "stdout",
     "output_type": "stream",
     "text": [
      "No <h1> tag found in https://www.moneycontrol.com/news/mgmtinterviews/chats/detail_new.php\n",
      "No <h1> tag found in https://www.moneycontrol.com/news/mgmtinterviews/chats/archives_new.php\n",
      "No <h1> tag found in https://twitter.com/home?status=https://www.moneycontrol.com/news/photos/business/markets/gainers-losers-stocks-that-moved-the-most-on-july-19-12773089.html\n",
      "No <h1> tag found in https://plus.google.com/share?url=https://www.moneycontrol.com/news/photos/business/markets/gainers-losers-stocks-that-moved-the-most-on-july-19-12773089.html\n"
     ]
    },
    {
     "name": "stderr",
     "output_type": "stream",
     "text": [
      "Some characters could not be decoded, and were replaced with REPLACEMENT CHARACTER.\n"
     ]
    },
    {
     "name": "stdout",
     "output_type": "stream",
     "text": [
      "No <h1> tag found in https://www.moneycontrol.com/news/mgmtinterviews/chats/detail_new.php?type=upcoming\n",
      "No <h1> tag found in https://www.moneycontrol.com/news/mgmtinterviews/chats/archives_new.php\n"
     ]
    },
    {
     "name": "stderr",
     "output_type": "stream",
     "text": [
      "Some characters could not be decoded, and were replaced with REPLACEMENT CHARACTER.\n"
     ]
    },
    {
     "name": "stdout",
     "output_type": "stream",
     "text": [
      "No <h1> tag found in https://www.moneycontrol.com/news/mgmtinterviews/chats/detail_new.php\n",
      "No <h1> tag found in https://www.moneycontrol.com/news/mgmtinterviews/chats/archives_new.php\n",
      "No <h1> tag found in https://twitter.com/home?status=https://www.moneycontrol.com/news/photos/business/markets/gainers-losers-stocks-that-moved-the-most-on-july-19-12773089.html\n",
      "No <h1> tag found in https://plus.google.com/share?url=https://www.moneycontrol.com/news/photos/business/markets/gainers-losers-stocks-that-moved-the-most-on-july-19-12773089.html\n"
     ]
    }
   ],
   "source": [
    "BASE_URL = 'https://www.moneycontrol.com'\n",
    "DAYS = 2\n",
    "OUTPUT_DIR = 'data/raw'\n",
    "\n",
    "scrape_news(BASE_URL, DAYS, OUTPUT_DIR)"
   ]
  },
  {
   "cell_type": "code",
   "execution_count": 10,
   "id": "dd535a16-7954-45b0-b9a3-84d31e65d828",
   "metadata": {},
   "outputs": [
    {
     "name": "stdout",
     "output_type": "stream",
     "text": [
      "C:\\Users\\nandk\\Desktop\\PYTHON PRACTICE\\data\\raw\n"
     ]
    }
   ],
   "source": [
    "import os\n",
    "abs_path = os.path.abspath('data/raw')\n",
    "print(abs_path)  # Outputs the absolute path"
   ]
  },
  {
   "cell_type": "code",
   "execution_count": null,
   "id": "03f3cdce-3c11-40f9-aca6-914891c57188",
   "metadata": {},
   "outputs": [],
   "source": [
    "os.path"
   ]
  }
 ],
 "metadata": {
  "kernelspec": {
   "display_name": "Python 3 (ipykernel)",
   "language": "python",
   "name": "python3"
  },
  "language_info": {
   "codemirror_mode": {
    "name": "ipython",
    "version": 3
   },
   "file_extension": ".py",
   "mimetype": "text/x-python",
   "name": "python",
   "nbconvert_exporter": "python",
   "pygments_lexer": "ipython3",
   "version": "3.11.7"
  }
 },
 "nbformat": 4,
 "nbformat_minor": 5
}
