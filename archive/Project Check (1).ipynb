{
 "cells": [
  {
   "cell_type": "code",
   "execution_count": 2,
   "id": "b4ddf5ba-0493-45e0-b674-28e017651b56",
   "metadata": {},
   "outputs": [
    {
     "name": "stdout",
     "output_type": "stream",
     "text": [
      "Collecting newsapi-python\n",
      "  Downloading newsapi_python-0.2.7-py2.py3-none-any.whl.metadata (1.2 kB)\n",
      "Requirement already satisfied: requests<3.0.0 in c:\\users\\nandk\\anaconda3\\lib\\site-packages (from newsapi-python) (2.32.3)\n",
      "Requirement already satisfied: charset-normalizer<4,>=2 in c:\\users\\nandk\\anaconda3\\lib\\site-packages (from requests<3.0.0->newsapi-python) (2.0.4)\n",
      "Requirement already satisfied: idna<4,>=2.5 in c:\\users\\nandk\\anaconda3\\lib\\site-packages (from requests<3.0.0->newsapi-python) (3.4)\n",
      "Requirement already satisfied: urllib3<3,>=1.21.1 in c:\\users\\nandk\\anaconda3\\lib\\site-packages (from requests<3.0.0->newsapi-python) (2.0.7)\n",
      "Requirement already satisfied: certifi>=2017.4.17 in c:\\users\\nandk\\anaconda3\\lib\\site-packages (from requests<3.0.0->newsapi-python) (2024.2.2)\n",
      "Downloading newsapi_python-0.2.7-py2.py3-none-any.whl (7.9 kB)\n",
      "Installing collected packages: newsapi-python\n",
      "Successfully installed newsapi-python-0.2.7\n",
      "Note: you may need to restart the kernel to use updated packages.\n"
     ]
    }
   ],
   "source": [
    "pip install newsapi-python"
   ]
  },
  {
   "cell_type": "code",
   "execution_count": 3,
   "id": "f784c444-bb96-4513-8b7b-d901f9ded156",
   "metadata": {},
   "outputs": [
    {
     "data": {
      "text/html": [
       "<div>\n",
       "<style scoped>\n",
       "    .dataframe tbody tr th:only-of-type {\n",
       "        vertical-align: middle;\n",
       "    }\n",
       "\n",
       "    .dataframe tbody tr th {\n",
       "        vertical-align: top;\n",
       "    }\n",
       "\n",
       "    .dataframe thead th {\n",
       "        text-align: right;\n",
       "    }\n",
       "</style>\n",
       "<table border=\"1\" class=\"dataframe\">\n",
       "  <thead>\n",
       "    <tr style=\"text-align: right;\">\n",
       "      <th></th>\n",
       "      <th>author</th>\n",
       "      <th>title</th>\n",
       "    </tr>\n",
       "  </thead>\n",
       "  <tbody>\n",
       "    <tr>\n",
       "      <th>0</th>\n",
       "      <td>Jonathan Bennett</td>\n",
       "      <td>This Week in Security: Snowflake, The CVD Tens...</td>\n",
       "    </tr>\n",
       "    <tr>\n",
       "      <th>1</th>\n",
       "      <td>Brendan Lowry</td>\n",
       "      <td>Is Kunitsu-Gami: Path of the Goddess a digital...</td>\n",
       "    </tr>\n",
       "    <tr>\n",
       "      <th>2</th>\n",
       "      <td>Jeff Butts</td>\n",
       "      <td>Microsoft has fixed the nasty update bug causi...</td>\n",
       "    </tr>\n",
       "    <tr>\n",
       "      <th>3</th>\n",
       "      <td>Peter Stelzel-Morawietz</td>\n",
       "      <td>Copilot+ PCs explained: AI Windows meets Arm l...</td>\n",
       "    </tr>\n",
       "    <tr>\n",
       "      <th>4</th>\n",
       "      <td>Sead Fadilpašić</td>\n",
       "      <td>Another reason to upgrade — experts warn Inter...</td>\n",
       "    </tr>\n",
       "  </tbody>\n",
       "</table>\n",
       "</div>"
      ],
      "text/plain": [
       "                    author                                              title\n",
       "0         Jonathan Bennett  This Week in Security: Snowflake, The CVD Tens...\n",
       "1            Brendan Lowry  Is Kunitsu-Gami: Path of the Goddess a digital...\n",
       "2               Jeff Butts  Microsoft has fixed the nasty update bug causi...\n",
       "3  Peter Stelzel-Morawietz  Copilot+ PCs explained: AI Windows meets Arm l...\n",
       "4          Sead Fadilpašić  Another reason to upgrade — experts warn Inter..."
      ]
     },
     "execution_count": 3,
     "metadata": {},
     "output_type": "execute_result"
    }
   ],
   "source": [
    "import requests\n",
    "import pandas as pd\n",
    "from newsapi import NewsApiClient\n",
    "from datetime import datetime, timedelta\n",
    "\n",
    "def fetch_news(query, from_date, to_date, language='en', sort_by='relevancy', page_size=30, api_key='YOUR_API_KEY'):\n",
    "    # Initialize the NewsAPI client\n",
    "    newsapi = NewsApiClient(api_key=api_key)\n",
    "    query = query.replace(' ','&')\n",
    "    # Fetch all articles matching the query\n",
    "    all_articles = newsapi.get_everything(\n",
    "        q=query,\n",
    "        from_param=from_date,\n",
    "        to=to_date,\n",
    "        language=language,\n",
    "        sort_by=sort_by,\n",
    "        page_size=page_size\n",
    "    )\n",
    "\n",
    "    # Extract articles\n",
    "    articles = all_articles.get('articles', [])\n",
    "\n",
    "    # Convert to DataFrame\n",
    "    if articles:\n",
    "        df = pd.DataFrame(articles)\n",
    "        return df\n",
    "    else:\n",
    "        return pd.DataFrame()  # Return an empty DataFrame if no articles are found\n",
    "\n",
    "# Get the current time\n",
    "current_time = datetime.now()\n",
    "# Get the time 10 days ago\n",
    "time_10_days_ago = current_time - timedelta(days=10)\n",
    "api_key = 'c0e23a8956cf4b54af382abd932f88ff'\n",
    "q = \"Microsoft News June 2024\"\n",
    "df = fetch_news(q, time_10_days_ago, current_time, api_key=api_key)\n",
    "\n",
    "df_news = df.drop(\"source\", axis=1)\n",
    "\n",
    "def preprocess_news_data(df):\n",
    "    # Convert publishedAt to datetime\n",
    "    df['publishedAt'] = pd.to_datetime(df['publishedAt'])\n",
    "    df = df[~df['author'].isna()]\n",
    "    df = df[['author', 'title']]\n",
    "    return df\n",
    "\n",
    "preprocessed_news_df = preprocess_news_data(df_news)\n",
    "preprocessed_news_df.head()\n",
    "     "
   ]
  },
  {
   "cell_type": "code",
   "execution_count": null,
   "id": "237ac870-31d4-42ce-a821-2baa35619731",
   "metadata": {},
   "outputs": [],
   "source": []
  }
 ],
 "metadata": {
  "kernelspec": {
   "display_name": "Python 3 (ipykernel)",
   "language": "python",
   "name": "python3"
  },
  "language_info": {
   "codemirror_mode": {
    "name": "ipython",
    "version": 3
   },
   "file_extension": ".py",
   "mimetype": "text/x-python",
   "name": "python",
   "nbconvert_exporter": "python",
   "pygments_lexer": "ipython3",
   "version": "3.11.7"
  }
 },
 "nbformat": 4,
 "nbformat_minor": 5
}
